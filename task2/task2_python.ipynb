{
 "cells": [
  {
   "cell_type": "code",
   "execution_count": 1,
   "metadata": {},
   "outputs": [
    {
     "name": "stdout",
     "output_type": "stream",
     "text": [
      "solution paths:\n",
      "3 missionaries, 3 cannibals, boat on left, 0 missionaries, 0 cannibals\n",
      "3 missionaries, 1 cannibals, boat on right, 0 missionaries, 2 cannibals\n",
      "3 missionaries, 2 cannibals, boat on left, 0 missionaries, 1 cannibals\n",
      "3 missionaries, 0 cannibals, boat on right, 0 missionaries, 3 cannibals\n",
      "3 missionaries, 1 cannibals, boat on left, 0 missionaries, 2 cannibals\n",
      "1 missionaries, 1 cannibals, boat on right, 2 missionaries, 2 cannibals\n",
      "2 missionaries, 2 cannibals, boat on left, 1 missionaries, 1 cannibals\n",
      "0 missionaries, 2 cannibals, boat on right, 3 missionaries, 1 cannibals\n",
      "0 missionaries, 3 cannibals, boat on left, 3 missionaries, 0 cannibals\n",
      "0 missionaries, 1 cannibals, boat on right, 3 missionaries, 2 cannibals\n",
      "1 missionaries, 1 cannibals, boat on left, 2 missionaries, 2 cannibals\n",
      "0 missionaries, 0 cannibals, boat on right, 3 missionaries, 3 cannibals\n"
     ]
    }
   ],
   "source": [
    "def is_valid(state):\n",
    "    m1, c1, b, m2, c2 = state\n",
    "    return 0 <= m1 <= 3 and 0 <= c1 <= 3 and 0 <= m2 <= 3 and 0 <= c2 <= 3 and ((m1 == 0 or m1 >= c1) and (m2 == 0 or m2 >= c2))\n",
    "\n",
    "def generate_next_states(state):\n",
    "    m1, c1, b, m2, c2 = state\n",
    "    moves = [(1, 0), (2, 0), (0, 1), (0, 2), (1, 1)]\n",
    "    next_states = []\n",
    "    for dm, dc in moves:\n",
    "        if b == 1:\n",
    "            new_state = (m1 - dm, c1 - dc, 0, m2 + dm, c2 + dc)\n",
    "        else:\n",
    "            new_state = (m1 + dm, c1 + dc, 1, m2 - dm, c2 - dc)\n",
    "\n",
    "        if is_valid(new_state):\n",
    "            next_states.append(new_state)\n",
    "\n",
    "    return next_states\n",
    "\n",
    "def solve_bfs(start_state):\n",
    "    queue = [(start_state, [start_state])]\n",
    "    while queue:\n",
    "        current_state, path = queue.pop(0)\n",
    "        if current_state == (0, 0, 0, 3, 3):\n",
    "            return path\n",
    "        for next_state in generate_next_states(current_state):\n",
    "            if next_state not in path:\n",
    "                queue.append((next_state, path + [next_state]))\n",
    "    return None\n",
    "\n",
    "start_state = (3, 3, 1, 0, 0)\n",
    "solution = solve_bfs(start_state)\n",
    "if solution:\n",
    "    print(\"solution paths:\")\n",
    "    for step in solution:\n",
    "        m1, c1, b, m2, c2 = step\n",
    "        print(f\"{m1} missionaries, {c1} cannibals, {'boat on left' if b == 1 else 'boat on right'}, {m2} missionaries, {c2} cannibals\")\n",
    "else:\n",
    "    print(\"No solution\")\n"
   ]
  }
 ],
 "metadata": {
  "kernelspec": {
   "display_name": "Python 3",
   "language": "python",
   "name": "python3"
  },
  "language_info": {
   "codemirror_mode": {
    "name": "ipython",
    "version": 3
   },
   "file_extension": ".py",
   "mimetype": "text/x-python",
   "name": "python",
   "nbconvert_exporter": "python",
   "pygments_lexer": "ipython3",
   "version": "3.11.8"
  }
 },
 "nbformat": 4,
 "nbformat_minor": 2
}
